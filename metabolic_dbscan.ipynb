{
 "cells": [
  {
   "cell_type": "code",
   "execution_count": 10,
   "metadata": {},
   "outputs": [
    {
     "name": "stdout",
     "output_type": "stream",
     "text": [
      "(u'waist_circumference', [62, 219, 253, 280, 281, 282, 565, 756, 757, 758, 759, 760, 761, 762, 763, 764, 765, 766, 767, 768, 769, 770, 771, 772, 773, 774, 775, 776, 777, 778, 779, 780, 781, 782, 783, 784, 785, 786, 787, 788, 789, 790, 791, 792, 793, 794, 795, 796, 797, 798, 799, 800, 801, 802, 803, 804, 805, 806, 807, 808, 809, 810, 811, 812, 813, 814, 815, 816, 817, 818, 819, 820, 821, 822, 823, 824, 825, 826, 827, 828, 829, 830, 831, 832, 833, 834, 835, 836, 837, 838, 839, 840, 841, 842, 843, 844, 845, 846, 847, 848, 849, 850, 851, 852, 853, 854, 855, 856, 857, 858, 859, 860, 861, 862, 863, 864, 865, 866, 867, 868, 869, 870, 871, 872, 873, 874, 875, 876, 877, 878, 879, 880, 881, 882, 883, 884, 885, 886, 887, 888, 889, 890, 891, 892, 893, 894, 895, 896, 897, 898, 899, 900])\n",
      "(u'upper_pressure', [699, 700, 775, 776, 779, 790, 804, 810, 814, 816, 817, 822, 823, 826, 827, 829, 831, 832, 833, 835, 838, 842, 843, 846, 851, 855, 863, 864, 865, 867])\n",
      "(u'lower_pressure', [699, 700, 775, 776, 779, 790, 804, 810, 814, 816, 817, 822, 823, 826, 827, 829, 831, 832, 833, 835, 838, 842, 843, 846, 851, 855, 860, 863, 864, 865, 867])\n",
      "(u'blood_glu', [245, 274, 277, 301, 315, 320, 321, 355, 358, 359, 360, 369, 384, 385, 460, 516, 619, 693, 698, 700, 719, 749, 761, 876, 879, 880, 893])\n",
      "(u'blood_cho', [176, 177, 184, 214, 227, 273, 387, 444, 539, 583, 693, 698, 876, 879])\n",
      "(u'blood_tg', [176, 177, 184, 214, 227, 273, 387, 444, 539, 583, 690, 698, 876, 879])\n",
      "(u'blood_hdl', [3, 76, 101, 103, 176, 177, 184, 214, 227, 273, 387, 444, 539, 583, 698, 876, 879])\n",
      "Estimated number of clusters: 1\n",
      "Estimated number of noise points: 6\n"
     ]
    }
   ],
   "source": [
    "%matplotlib inline\n",
    "import numpy as np\n",
    "import scipy as sp\n",
    "import pandas as pd\n",
    "import matplotlib.pyplot as plt\n",
    "import seaborn as sns\n",
    "from sklearn import preprocessing\n",
    "\n",
    "data = pd.read_excel('split_database_901_only_metabolic.xlsx')\n",
    "\n",
    "#数据全部转换为float64\n",
    "data = data.astype('float64')\n",
    "\n",
    "#定位缺失值\n",
    "for columname in data.columns:\n",
    "    if data[columname].count() != len(data):\n",
    "        loc = data[columname][data[columname].isnull().values==True].index.tolist()\n",
    "        print(columname, loc)\n",
    "\n",
    "#以平均值替换缺失值\n",
    "from sklearn.preprocessing import Imputer\n",
    "\n",
    "imp = Imputer(missing_values='NaN', strategy = 'median', axis=0)\n",
    "imp.fit(data)\n",
    "Imputer(axis=0, copy=True, missing_values='NaN', strategy='median', verbose=0)\n",
    "data_imputed = imp.transform(data)\n",
    "\n",
    "\n",
    "#标准化数据进行后续操作\n",
    "data_imputed_mean = np.mean(data_imputed, axis=0)\n",
    "data_imputed_std = np.std(data_imputed, axis=0)\n",
    "data_imputed_standardized = preprocessing.scale(data_imputed)\n",
    "\n",
    "from sklearn.cluster import DBSCAN\n",
    "from sklearn import metrics\n",
    "\n",
    "# Compute DBSCAN\n",
    "db = DBSCAN(eps=4, min_samples=20).fit(data_imputed_standardized)\n",
    "core_samples_mask = np.zeros_like(db.labels_, dtype=bool)\n",
    "core_samples_mask[db.core_sample_indices_] = True\n",
    "labels = db.labels_\n",
    "\n",
    "# Number of clusters in labels, ignoring noise if present.\n",
    "n_clusters_ = len(set(labels)) - (1 if -1 in labels else 0)\n",
    "n_noise_ = list(labels).count(-1)\n",
    "\n",
    "print('Estimated number of clusters: %d' % n_clusters_)\n",
    "print('Estimated number of noise points: %d' % n_noise_)"
   ]
  },
  {
   "cell_type": "code",
   "execution_count": null,
   "metadata": {},
   "outputs": [],
   "source": []
  }
 ],
 "metadata": {
  "kernelspec": {
   "display_name": "Python 2",
   "language": "python",
   "name": "python2"
  },
  "language_info": {
   "codemirror_mode": {
    "name": "ipython",
    "version": 2
   },
   "file_extension": ".py",
   "mimetype": "text/x-python",
   "name": "python",
   "nbconvert_exporter": "python",
   "pygments_lexer": "ipython2",
   "version": "2.7.15"
  }
 },
 "nbformat": 4,
 "nbformat_minor": 2
}
