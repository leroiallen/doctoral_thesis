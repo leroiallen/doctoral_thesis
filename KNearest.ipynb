{
 "cells": [
  {
   "cell_type": "code",
   "execution_count": 3,
   "metadata": {},
   "outputs": [
    {
     "name": "stdout",
     "output_type": "stream",
     "text": [
      "Accuracy: 53.67%\n"
     ]
    }
   ],
   "source": [
    "import numpy as np\n",
    "import scipy as sp\n",
    "import pandas as pd\n",
    "import matplotlib.pyplot as plt\n",
    "import seaborn as sns\n",
    "from sklearn.model_selection import train_test_split\n",
    "%matplotlib inline\n",
    "\n",
    "#import data\n",
    "dataframe = pd.read_excel('split_database_901_2.xlsx')\n",
    "\n",
    "#split the dataset into the features and the label\n",
    "dataframe_feature=dataframe.iloc[:,0:dataframe.shape[1]-1]\n",
    "dataframe_label=dataframe.iloc[:,dataframe.shape[1]-1]\n",
    "X = dataframe_feature.values\n",
    "Y = dataframe_label.values\n",
    "\n",
    "seed = 7\n",
    "test_size = 0.33\n",
    "x_train, x_test, y_train, y_test = train_test_split(X, Y, test_size=test_size, random_state=seed)\n",
    "\n",
    "#impute missing data with -1\n",
    "x_train_1 = np.array(pd.DataFrame(x_train).fillna(-1))\n",
    "x_test_1 = np.array(pd.DataFrame(x_test).fillna(-1))\n",
    "\n",
    "from sklearn.neighbors import KNeighborsClassifier\n",
    "\n",
    "neigh = KNeighborsClassifier(n_neighbors=4)\n",
    "\n",
    "neigh.fit(x_train_1, y_train)\n",
    "\n",
    "y_pred = neigh.predict(x_test_1)\n",
    "predictions = [round(value) for value in y_pred]\n",
    "\n",
    "from sklearn.metrics import accuracy_score\n",
    "\n",
    "# evaluate predictions\n",
    "accuracy = accuracy_score(y_test, predictions)\n",
    "print(\"Accuracy: %.2f%%\" % (accuracy * 100.0))"
   ]
  },
  {
   "cell_type": "code",
   "execution_count": 4,
   "metadata": {},
   "outputs": [
    {
     "name": "stdout",
     "output_type": "stream",
     "text": [
      "Accuracy: 52.43 (2.53) %\n"
     ]
    }
   ],
   "source": [
    "from sklearn.model_selection import cross_val_score\n",
    "\n",
    "X_1 = np.array(pd.DataFrame(X).fillna(-1))\n",
    "\n",
    "scores = cross_val_score(neigh, X_1 , Y, cv=5)\n",
    "\n",
    "print (\"Accuracy: %.2f (%.2f) %%\" % (scores.mean() * 100, scores.std() * 100))"
   ]
  },
  {
   "cell_type": "code",
   "execution_count": 5,
   "metadata": {},
   "outputs": [
    {
     "name": "stdout",
     "output_type": "stream",
     "text": [
      "Accuracy: 51.41%\n"
     ]
    }
   ],
   "source": [
    "from sklearn.preprocessing import Imputer\n",
    "\n",
    "#impute missing data with median\n",
    "\n",
    "imputer_median = Imputer(strategy='median')\n",
    "x_train_2 = imputer_median.fit_transform(x_train)\n",
    "x_test_2 = imputer_median.fit_transform(x_test)\n",
    "\n",
    "neigh.fit(x_train_2, y_train)\n",
    "\n",
    "y_pred_2 = neigh.predict(x_test_2)\n",
    "predictions_2 = [round(value) for value in y_pred_2]\n",
    "\n",
    "from sklearn.metrics import accuracy_score\n",
    "\n",
    "# evaluate predictions\n",
    "accuracy_2 = accuracy_score(y_test, predictions_2)\n",
    "print(\"Accuracy: %.2f%%\" % (accuracy_2 * 100.0))"
   ]
  },
  {
   "cell_type": "code",
   "execution_count": 6,
   "metadata": {},
   "outputs": [
    {
     "name": "stdout",
     "output_type": "stream",
     "text": [
      "Accuracy: 48.69 (2.01) %\n"
     ]
    }
   ],
   "source": [
    "X_2 = imputer_median.fit_transform(X)\n",
    "\n",
    "scores_2 = cross_val_score(neigh, X_2 , Y, cv=5)\n",
    "\n",
    "print (\"Accuracy: %.2f (%.2f) %%\" % (scores_2.mean() * 100, scores_2.std() * 100))"
   ]
  },
  {
   "cell_type": "code",
   "execution_count": 7,
   "metadata": {},
   "outputs": [
    {
     "name": "stdout",
     "output_type": "stream",
     "text": [
      "Accuracy: 45.20%\n"
     ]
    }
   ],
   "source": [
    "#impute missing data with mean\n",
    "\n",
    "imputer_mean = Imputer(strategy='mean')\n",
    "x_train_3 = imputer_mean.fit_transform(x_train)\n",
    "x_test_3 = imputer_mean.fit_transform(x_test)\n",
    "\n",
    "neigh.fit(x_train_3, y_train)\n",
    "\n",
    "y_pred_3 = neigh.predict(x_test_3)\n",
    "predictions_3 = [round(value) for value in y_pred_3]\n",
    "\n",
    "from sklearn.metrics import accuracy_score\n",
    "\n",
    "# evaluate predictions\n",
    "accuracy_3 = accuracy_score(y_test, predictions_3)\n",
    "print(\"Accuracy: %.2f%%\" % (accuracy_3 * 100.0))"
   ]
  },
  {
   "cell_type": "code",
   "execution_count": 8,
   "metadata": {},
   "outputs": [
    {
     "name": "stdout",
     "output_type": "stream",
     "text": [
      "Accuracy: 49.65 (3.75) %\n"
     ]
    }
   ],
   "source": [
    "X_3 = imputer_mean.fit_transform(X)\n",
    "\n",
    "scores_3 = cross_val_score(neigh, X_3 , Y, cv=5)\n",
    "\n",
    "print (\"Accuracy: %.2f (%.2f) %%\" % (scores_3.mean() * 100, scores_3.std() * 100))"
   ]
  },
  {
   "cell_type": "code",
   "execution_count": 1,
   "metadata": {},
   "outputs": [
    {
     "name": "stdout",
     "output_type": "stream",
     "text": [
      "Accuracy: 53.67%\n",
      "Accuracy: 44.63%\n",
      "Accuracy: 52.54%\n",
      "Accuracy: 55.93%\n",
      "Accuracy: 50.28%\n"
     ]
    }
   ],
   "source": [
    "import numpy as np\n",
    "import scipy as sp\n",
    "import pandas as pd\n",
    "import matplotlib.pyplot as plt\n",
    "import seaborn as sns\n",
    "from sklearn.model_selection import train_test_split\n",
    "%matplotlib inline\n",
    "\n",
    "#import data\n",
    "dataframe = pd.read_excel('split_database_901_2.xlsx')\n",
    "\n",
    "#split the dataset into the features and the label\n",
    "dataframe_feature=dataframe.iloc[:,0:dataframe.shape[1]-1]\n",
    "dataframe_label=dataframe.iloc[:,dataframe.shape[1]-1]\n",
    "X = dataframe_feature.values\n",
    "Y = dataframe_label.values\n",
    "\n",
    "test_size = 0.33\n",
    "\n",
    "from sklearn.neighbors import KNeighborsClassifier\n",
    "from sklearn.metrics import accuracy_score\n",
    "    \n",
    "for seed in [7,8,9,10,11]:\n",
    "    x_train, x_test, y_train, y_test = train_test_split(X, Y, test_size=test_size, random_state=seed)\n",
    "\n",
    "    #impute missing data with -1\n",
    "    x_train_1 = np.array(pd.DataFrame(x_train).fillna(-1))\n",
    "    x_test_1 = np.array(pd.DataFrame(x_test).fillna(-1))\n",
    "    \n",
    "    neigh = KNeighborsClassifier(n_neighbors=4)\n",
    "\n",
    "    neigh.fit(x_train_1, y_train)\n",
    "\n",
    "    y_pred = neigh.predict(x_test_1)\n",
    "    predictions = [round(value) for value in y_pred]\n",
    "\n",
    "    # evaluate predictions\n",
    "    accuracy = accuracy_score(y_test, predictions)\n",
    "    print(\"Accuracy: %.2f%%\" % (accuracy * 100.0))"
   ]
  },
  {
   "cell_type": "code",
   "execution_count": 2,
   "metadata": {},
   "outputs": [
    {
     "name": "stdout",
     "output_type": "stream",
     "text": [
      "Accuracy: 51.41%\n",
      "Accuracy: 42.94%\n",
      "Accuracy: 49.15%\n",
      "Accuracy: 48.59%\n",
      "Accuracy: 45.76%\n"
     ]
    }
   ],
   "source": [
    "from sklearn.preprocessing import Imputer\n",
    "\n",
    "for seed in [7,8,9,10,11]:\n",
    "    x_train, x_test, y_train, y_test = train_test_split(X, Y, test_size=test_size, random_state=seed)\n",
    "    \n",
    "    #impute missing data with median\n",
    "\n",
    "    imputer_median = Imputer(strategy='median')\n",
    "    x_train_2 = imputer_median.fit_transform(x_train)\n",
    "    x_test_2 = imputer_median.fit_transform(x_test)\n",
    "\n",
    "    neigh.fit(x_train_2, y_train)\n",
    "\n",
    "    y_pred_2 = neigh.predict(x_test_2)\n",
    "    predictions_2 = [round(value) for value in y_pred_2]\n",
    "\n",
    "    # evaluate predictions\n",
    "    accuracy_2 = accuracy_score(y_test, predictions_2)\n",
    "    print(\"Accuracy: %.2f%%\" % (accuracy_2 * 100.0))"
   ]
  },
  {
   "cell_type": "code",
   "execution_count": 3,
   "metadata": {},
   "outputs": [
    {
     "name": "stdout",
     "output_type": "stream",
     "text": [
      "Accuracy: 45.20%\n",
      "Accuracy: 44.07%\n",
      "Accuracy: 49.72%\n",
      "Accuracy: 50.85%\n",
      "Accuracy: 48.02%\n"
     ]
    }
   ],
   "source": [
    "for seed in [7,8,9,10,11]:\n",
    "    x_train, x_test, y_train, y_test = train_test_split(X, Y, test_size=test_size, random_state=seed)\n",
    "    \n",
    "    #impute missing data with mean\n",
    "\n",
    "    imputer_mean = Imputer(strategy='mean')\n",
    "    x_train_3 = imputer_mean.fit_transform(x_train)\n",
    "    x_test_3 = imputer_mean.fit_transform(x_test)\n",
    "\n",
    "    neigh.fit(x_train_3, y_train)\n",
    "\n",
    "    y_pred_3 = neigh.predict(x_test_3)\n",
    "    predictions_3 = [round(value) for value in y_pred_3]\n",
    "\n",
    "    # evaluate predictions\n",
    "    accuracy_3 = accuracy_score(y_test, predictions_3)\n",
    "    print(\"Accuracy: %.2f%%\" % (accuracy_3 * 100.0))"
   ]
  },
  {
   "cell_type": "code",
   "execution_count": null,
   "metadata": {},
   "outputs": [],
   "source": []
  }
 ],
 "metadata": {
  "kernelspec": {
   "display_name": "Python 2",
   "language": "python",
   "name": "python2"
  },
  "language_info": {
   "codemirror_mode": {
    "name": "ipython",
    "version": 2
   },
   "file_extension": ".py",
   "mimetype": "text/x-python",
   "name": "python",
   "nbconvert_exporter": "python",
   "pygments_lexer": "ipython2",
   "version": "2.7.15"
  }
 },
 "nbformat": 4,
 "nbformat_minor": 2
}
