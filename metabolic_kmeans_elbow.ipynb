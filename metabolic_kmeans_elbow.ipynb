{
 "cells": [
  {
   "cell_type": "code",
   "execution_count": 6,
   "metadata": {},
   "outputs": [
    {
     "name": "stdout",
     "output_type": "stream",
     "text": [
      "(u'waist_circumference', [62, 219, 253, 280, 281, 282, 565, 756, 757, 758, 759, 760, 761, 762, 763, 764, 765, 766, 767, 768, 769, 770, 771, 772, 773, 774, 775, 776, 777, 778, 779, 780, 781, 782, 783, 784, 785, 786, 787, 788, 789, 790, 791, 792, 793, 794, 795, 796, 797, 798, 799, 800, 801, 802, 803, 804, 805, 806, 807, 808, 809, 810, 811, 812, 813, 814, 815, 816, 817, 818, 819, 820, 821, 822, 823, 824, 825, 826, 827, 828, 829, 830, 831, 832, 833, 834, 835, 836, 837, 838, 839, 840, 841, 842, 843, 844, 845, 846, 847, 848, 849, 850, 851, 852, 853, 854, 855, 856, 857, 858, 859, 860, 861, 862, 863, 864, 865, 866, 867, 868, 869, 870, 871, 872, 873, 874, 875, 876, 877, 878, 879, 880, 881, 882, 883, 884, 885, 886, 887, 888, 889, 890, 891, 892, 893, 894, 895, 896, 897, 898, 899, 900])\n",
      "(u'upper_pressure', [699, 700, 775, 776, 779, 790, 804, 810, 814, 816, 817, 822, 823, 826, 827, 829, 831, 832, 833, 835, 838, 842, 843, 846, 851, 855, 863, 864, 865, 867])\n",
      "(u'lower_pressure', [699, 700, 775, 776, 779, 790, 804, 810, 814, 816, 817, 822, 823, 826, 827, 829, 831, 832, 833, 835, 838, 842, 843, 846, 851, 855, 860, 863, 864, 865, 867])\n",
      "(u'blood_glu', [245, 274, 277, 301, 315, 320, 321, 355, 358, 359, 360, 369, 384, 385, 460, 516, 619, 693, 698, 700, 719, 749, 761, 876, 879, 880, 893])\n",
      "(u'blood_cho', [176, 177, 184, 214, 227, 273, 387, 444, 539, 583, 693, 698, 876, 879])\n",
      "(u'blood_tg', [176, 177, 184, 214, 227, 273, 387, 444, 539, 583, 690, 698, 876, 879])\n",
      "(u'blood_hdl', [3, 76, 101, 103, 176, 177, 184, 214, 227, 273, 387, 444, 539, 583, 698, 876, 879])\n",
      "(u'panss_n1', [108])\n",
      "(u'panss_n3', [584])\n",
      "[18921.00000000002, 15468.64178202479, 13477.45403811884, 12354.846808707247, 11823.079591530814, 11378.211705853, 11044.779990634896, 10729.967510855495, 10437.872546743403, 10205.796097837323, 10002.72159459652, 9832.406064274817, 9620.100084674115, 9415.16252216252, 9251.587271798597, 9139.909228072309, 8995.987300058094, 8973.868908099472, 8805.302742534293]\n"
     ]
    },
    {
     "data": {
      "image/png": "[encoded data removed]",
      "text/plain": [
       "<Figure size 432x288 with 1 Axes>"
      ]
     },
     "metadata": {
      "needs_background": "light"
     },
     "output_type": "display_data"
    }
   ],
   "source": [
    "%matplotlib inline\n",
    "import numpy as np\n",
    "import scipy as sp\n",
    "import pandas as pd\n",
    "import matplotlib.pyplot as plt\n",
    "from sklearn import preprocessing\n",
    "\n",
    "data = pd.read_excel('split_database_901_only_metabolic.xlsx')\n",
    "\n",
    "#数据全部转换为float64\n",
    "data = data.astype('float64')\n",
    "\n",
    "#定位缺失值\n",
    "for columname in data.columns:\n",
    "    if data[columname].count() != len(data):\n",
    "        loc = data[columname][data[columname].isnull().values==True].index.tolist()\n",
    "        print(columname, loc)\n",
    "\n",
    "#以平均值替换缺失值\n",
    "from sklearn.preprocessing import Imputer\n",
    "\n",
    "imp = Imputer(missing_values='NaN', strategy = 'mean', axis=0)\n",
    "imp.fit(data)\n",
    "Imputer(axis=0, copy=True, missing_values='NaN', strategy='mean', verbose=0)\n",
    "data_imputed = imp.transform(data)\n",
    "\n",
    "#标准化数据进行后续操作\n",
    "data_imputed = pd.DataFrame(preprocessing.scale(data_imputed), columns=data.columns)\n",
    "\n",
    "#进行KMean\n",
    "from sklearn import cluster, metrics\n",
    "\n",
    "#手肘法确定K值\n",
    "from scipy.spatial.distance import cdist\n",
    "\n",
    "elbows = []\n",
    "ks = range(1,20)\n",
    "for k in ks:\n",
    "\tkmeans_fit = cluster.KMeans(n_clusters = k).fit(data_imputed)\n",
    "\telbow = sum(np.min(cdist(data_imputed, kmeans_fit.cluster_centers_, 'euclidean'), axis=1) ** 2) \n",
    "\telbows.append(elbow)\n",
    "\n",
    "print(elbows)\n",
    "plt.xlabel('k')\n",
    "plt.ylabel('SSE')\n",
    "'''\n",
    "plt.xticks(np.linspace(1,19,19))\n",
    "plt.ylim(2500,13500)\n",
    "'''\n",
    "plt.plot(ks, elbows, color = 'red',  marker='o', linewidth = 2.0)\n",
    "'''\n",
    "plt.annotate('', xy=(4.3, 6400), xytext = (5.5,7500), arrowprops=dict(width=1.5, headwidth=9, headlength=9, facecolor='black'))\n",
    "'''\n",
    "plt.savefig(\"metabolic_kmeans_elbow.png\", dpi=300)"
   ]
  },
  {
   "cell_type": "code",
   "execution_count": null,
   "metadata": {},
   "outputs": [],
   "source": []
  }
 ],
 "metadata": {
  "kernelspec": {
   "display_name": "Python 2",
   "language": "python",
   "name": "python2"
  },
  "language_info": {
   "codemirror_mode": {
    "name": "ipython",
    "version": 2
   },
   "file_extension": ".py",
   "mimetype": "text/x-python",
   "name": "python",
   "nbconvert_exporter": "python",
   "pygments_lexer": "ipython2",
   "version": "2.7.15"
  }
 },
 "nbformat": 4,
 "nbformat_minor": 2
}
