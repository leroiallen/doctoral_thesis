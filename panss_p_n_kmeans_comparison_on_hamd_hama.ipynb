{
 "cells": [
  {
   "cell_type": "code",
   "execution_count": 29,
   "metadata": {},
   "outputs": [
    {
     "data": {
      "image/png": "[encoded data removed]",
      "text/plain": [
       "<Figure size 432x288 with 1 Axes>"
      ]
     },
     "metadata": {
      "needs_background": "light"
     },
     "output_type": "display_data"
    }
   ],
   "source": [
    "%matplotlib inline\n",
    "import numpy as np\n",
    "import scipy as sp\n",
    "import pandas as pd\n",
    "import matplotlib.pyplot as plt\n",
    "import seaborn as sns\n",
    "\n",
    "hamd_mean = [5.08,\n",
    "5.86,\n",
    "12.29,\n",
    "8.15\n",
    "]\n",
    "hamd_std = [4.687,\n",
    "5.636,\n",
    "6.274,\n",
    "5.244\n",
    "]\n",
    "\n",
    "golden = '#fac205'\n",
    "blue = '#a2cffe'\n",
    "red = 'salmon'\n",
    "green = '#02ab2e'\n",
    "\n",
    "xticks = ['Cluster 1', 'Cluster 2', 'Cluster 3', 'Cluster 4']\n",
    "\n",
    "ax = plt.subplot(111)\n",
    "'''\n",
    "ax.plot((-1,4), (7,7), '--', color='lightgrey', linewidth=5)\n",
    "ax.plot((-1,4), (17,17), '--', color='lightgrey', linewidth=5)\n",
    "ax.plot((-1,4), (24,24), '--', color='lightgrey', linewidth=5)\n",
    "'''\n",
    "ax.errorbar(range(0,4),hamd_mean,yerr=hamd_std,fmt='o',capsize=7,\n",
    "            markersize=20,elinewidth=5,capthick=5)\n",
    "plt.xticks([])\n",
    "plt.yticks([0,7,17,24],fontsize=25)\n",
    "plt.xlim(-0.5,3.5)\n",
    "plt.ylim(-3,25)\n",
    "ax.spines['right'].set_visible(False)\n",
    "ax.spines['top'].set_visible(False)\n",
    "ax.spines['bottom'].set_visible(False)\n",
    "ax.spines['left'].set_linewidth(5)\n",
    "ax.tick_params('y',length=10,width=5)\n",
    "plt.savefig('panss_p_n_kmeans_comparison_on_hamd.png',dpi=300)"
   ]
  },
  {
   "cell_type": "code",
   "execution_count": 28,
   "metadata": {},
   "outputs": [
    {
     "data": {
      "image/png": "[encoded data removed]",
      "text/plain": [
       "<Figure size 432x288 with 1 Axes>"
      ]
     },
     "metadata": {
      "needs_background": "light"
     },
     "output_type": "display_data"
    }
   ],
   "source": [
    "hama_mean = [3.69,\n",
    "4.46,\n",
    "7.90,\n",
    "5.37\n",
    "]\n",
    "hama_std = [4.150,\n",
    "6.205,\n",
    "5.017,\n",
    "5.649\n",
    "]\n",
    "\n",
    "golden = '#fac205'\n",
    "blue = '#a2cffe'\n",
    "red = 'salmon'\n",
    "green = '#02ab2e'\n",
    "\n",
    "xticks = ['Cluster 1', 'Cluster 2', 'Cluster 3', 'Cluster 4']\n",
    "\n",
    "ax = plt.subplot(111)\n",
    "'''\n",
    "ax.plot((-1,4), (7,7), '--', color='lightgrey', linewidth=5)\n",
    "ax.plot((-1,4), (14,14), '--', color='lightgrey', linewidth=5)\n",
    "ax.plot((-1,4), (21,21), '--', color='lightgrey', linewidth=5)\n",
    "'''\n",
    "ax.errorbar(range(0,4),hama_mean,yerr=hama_std,fmt='o',capsize=7,\n",
    "            markersize=20,elinewidth=5,capthick=5)\n",
    "plt.xticks([])\n",
    "plt.yticks(range(0,30,7),fontsize=25)\n",
    "plt.xlim(-0.5,3.5)\n",
    "plt.ylim(-3,25)\n",
    "ax.spines['right'].set_visible(False)\n",
    "ax.spines['top'].set_visible(False)\n",
    "ax.spines['bottom'].set_visible(False)\n",
    "ax.spines['left'].set_linewidth(5)\n",
    "ax.tick_params('y',length=10,width=5)\n",
    "plt.savefig('panss_p_n_kmeans_comparison_on_hama.png',dpi=300)"
   ]
  },
  {
   "cell_type": "code",
   "execution_count": null,
   "metadata": {},
   "outputs": [],
   "source": []
  }
 ],
 "metadata": {
  "kernelspec": {
   "display_name": "Python 2",
   "language": "python",
   "name": "python2"
  },
  "language_info": {
   "codemirror_mode": {
    "name": "ipython",
    "version": 2
   },
   "file_extension": ".py",
   "mimetype": "text/x-python",
   "name": "python",
   "nbconvert_exporter": "python",
   "pygments_lexer": "ipython2",
   "version": "2.7.15"
  }
 },
 "nbformat": 4,
 "nbformat_minor": 2
}
