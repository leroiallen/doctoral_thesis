{
 "cells": [
  {
   "cell_type": "code",
   "execution_count": 2,
   "metadata": {},
   "outputs": [
    {
     "data": {
      "image/png": "[encoded data removed]",
      "text/plain": [
       "<Figure size 432x288 with 1 Axes>"
      ]
     },
     "metadata": {
      "needs_background": "light"
     },
     "output_type": "display_data"
    }
   ],
   "source": [
    "%matplotlib inline\n",
    "import numpy as np\n",
    "import scipy as sp\n",
    "import pandas as pd\n",
    "import matplotlib.pyplot as plt\n",
    "import seaborn as sns\n",
    "\n",
    "f1_mean = [-.4048573,\n",
    "-.5606249,\n",
    "1.5064114,\n",
    "1.1219104\n",
    "]\n",
    "f1_std = [.43891648,\n",
    ".44622953,\n",
    "1.06902090,\n",
    ".85865142\n",
    "]\n",
    "\n",
    "golden = '#fac205'\n",
    "blue = '#a2cffe'\n",
    "red = 'salmon'\n",
    "green = '#02ab2e'\n",
    "\n",
    "xticks = ['Cluster 1', 'Cluster 2', 'Cluster 3', 'Cluster 4']\n",
    "\n",
    "ax = plt.subplot(111)\n",
    "ax.errorbar(range(0,4),f1_mean,yerr=f1_std,fmt='o',capsize=7,\n",
    "            markersize=20,elinewidth=5,capthick=5)\n",
    "plt.xticks([])\n",
    "plt.yticks([-3,-2,-1,0,1,2,3],fontsize=25)\n",
    "plt.xlim(-0.5,3.5)\n",
    "plt.ylim(-4,4)\n",
    "ax.spines['right'].set_visible(False)\n",
    "ax.spines['top'].set_visible(False)\n",
    "ax.spines['bottom'].set_visible(False)\n",
    "ax.spines['left'].set_linewidth(5)\n",
    "ax.tick_params('y',length=10,width=5)\n",
    "plt.savefig('panss_p_n_kmeans_comparison_on_3_factors_f1.png',dpi=300)"
   ]
  },
  {
   "cell_type": "code",
   "execution_count": 3,
   "metadata": {},
   "outputs": [
    {
     "data": {
      "image/png": "[encoded data removed]",
      "text/plain": [
       "<Figure size 432x288 with 1 Axes>"
      ]
     },
     "metadata": {
      "needs_background": "light"
     },
     "output_type": "display_data"
    }
   ],
   "source": [
    "f2_mean = [-.7335993,\n",
    ".8806290,\n",
    "1.2585138,\n",
    "-.6534063\n",
    "]\n",
    "f2_std = [.46372462,\n",
    ".59823518,\n",
    ".66987569,\n",
    ".50893301\n",
    "]\n",
    "\n",
    "golden = '#fac205'\n",
    "blue = '#a2cffe'\n",
    "red = 'salmon'\n",
    "green = '#02ab2e'\n",
    "\n",
    "xticks = ['Cluster 1', 'Cluster 2', 'Cluster 3', 'Cluster 4']\n",
    "\n",
    "ax = plt.subplot(111)\n",
    "ax.errorbar(range(0,4),f2_mean,yerr=f2_std,fmt='o',capsize=7,\n",
    "            markersize=20,elinewidth=5,capthick=5)\n",
    "plt.xticks([])\n",
    "plt.yticks([-3,-2,-1,0,1,2,3],fontsize=25)\n",
    "plt.xlim(-0.5,3.5)\n",
    "plt.ylim(-4,4)\n",
    "ax.spines['right'].set_visible(False)\n",
    "ax.spines['top'].set_visible(False)\n",
    "ax.spines['bottom'].set_visible(False)\n",
    "ax.spines['left'].set_linewidth(5)\n",
    "ax.tick_params('y',length=10,width=5)\n",
    "plt.savefig('panss_p_n_kmeans_comparison_on_3_factors_f2.png',dpi=300)"
   ]
  },
  {
   "cell_type": "code",
   "execution_count": 7,
   "metadata": {},
   "outputs": [
    {
     "data": {
      "image/png": "[encoded data removed]",
      "text/plain": [
       "<Figure size 432x288 with 1 Axes>"
      ]
     },
     "metadata": {
      "needs_background": "light"
     },
     "output_type": "display_data"
    }
   ],
   "source": [
    "f3_mean = [-.0729689,\n",
    "-.2520161,\n",
    ".6398280,\n",
    ".2458108\n",
    "]\n",
    "f3_std = [.69976670,\n",
    ".99453291,\n",
    "1.35090291,\n",
    "1.16006905\n",
    "]\n",
    "\n",
    "golden = '#fac205'\n",
    "blue = '#a2cffe'\n",
    "red = 'salmon'\n",
    "green = '#02ab2e'\n",
    "\n",
    "xticks = ['Cluster 1', 'Cluster 2', 'Cluster 3', 'Cluster 4']\n",
    "\n",
    "ax = plt.subplot(111)\n",
    "ax.errorbar(range(0,4),f3_mean,yerr=f3_std,fmt='o',capsize=7,\n",
    "            markersize=20,elinewidth=5,capthick=5)\n",
    "plt.xticks([])\n",
    "plt.yticks([-3,-2,-1,0,1,2,3],fontsize=25)\n",
    "plt.xlim(-0.5,3.5)\n",
    "plt.ylim(-4,4)\n",
    "ax.spines['right'].set_visible(False)\n",
    "ax.spines['top'].set_visible(False)\n",
    "ax.spines['bottom'].set_visible(False)\n",
    "ax.spines['left'].set_linewidth(5)\n",
    "ax.tick_params('y',length=10,width=5)\n",
    "plt.savefig('panss_p_n_kmeans_comparison_on_3_factors_f3.png',dpi=300)"
   ]
  },
  {
   "cell_type": "code",
   "execution_count": null,
   "metadata": {},
   "outputs": [],
   "source": []
  }
 ],
 "metadata": {
  "kernelspec": {
   "display_name": "Python 2",
   "language": "python",
   "name": "python2"
  },
  "language_info": {
   "codemirror_mode": {
    "name": "ipython",
    "version": 2
   },
   "file_extension": ".py",
   "mimetype": "text/x-python",
   "name": "python",
   "nbconvert_exporter": "python",
   "pygments_lexer": "ipython2",
   "version": "2.7.15"
  }
 },
 "nbformat": 4,
 "nbformat_minor": 2
}
