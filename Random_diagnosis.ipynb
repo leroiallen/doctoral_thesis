{
 "cells": [
  {
   "cell_type": "code",
   "execution_count": 3,
   "metadata": {},
   "outputs": [
    {
     "data": {
      "text/plain": [
       "Ttest_1sampResult(statistic=-1808.3138388888642, pvalue=0.0)"
      ]
     },
     "execution_count": 3,
     "metadata": {},
     "output_type": "execute_result"
    }
   ],
   "source": [
    "import numpy as np\n",
    "import scipy as sp\n",
    "import pandas as pd\n",
    "import matplotlib.pyplot as plt\n",
    "import seaborn as sns\n",
    "from sklearn.model_selection import train_test_split\n",
    "from sklearn.grid_search import GridSearchCV   \n",
    "%matplotlib inline\n",
    "\n",
    "#import data\n",
    "dataframe = pd.read_excel('split_database_901_2.xlsx')\n",
    "\n",
    "#split the dataset into the features and the label\n",
    "dataframe_feature=dataframe.iloc[:,0:dataframe.shape[1]-1]\n",
    "dataframe_label=dataframe.iloc[:,dataframe.shape[1]-1]\n",
    "X = dataframe_feature.values\n",
    "Y = dataframe_label.values\n",
    "\n",
    "seed = 7\n",
    "test_size = 0.33\n",
    "x_train, x_test, y_train, y_test = train_test_split(X, Y, test_size=test_size, random_state=seed)\n",
    "\n",
    "import random\n",
    "from sklearn.metrics import accuracy_score\n",
    "\n",
    "random_accuracy=[]\n",
    "\n",
    "for k in range(0,10000):\n",
    "    random_predictions=[]\n",
    "    for i in range(0,y_test.shape[0]):\n",
    "        random_predictions=np.append(random_predictions,random.randint(0,3))\n",
    "    ran_accuracy = accuracy_score(y_test, random_predictions)\n",
    "    random_accuracy = np.append(random_accuracy,ran_accuracy)\n",
    "\n",
    "\n",
    "\n",
    "from scipy import stats\n",
    "stats.ttest_1samp(random_accuracy, 0.8362)"
   ]
  },
  {
   "cell_type": "code",
   "execution_count": 6,
   "metadata": {},
   "outputs": [
    {
     "data": {
      "text/plain": [
       "Ttest_1sampResult(statistic=-1267.7702209414833, pvalue=0.0)"
      ]
     },
     "execution_count": 6,
     "metadata": {},
     "output_type": "execute_result"
    },
    {
     "name": "stdout",
     "output_type": "stream",
     "text": [
      "\n"
     ]
    }
   ],
   "source": [
    "stats.ttest_1samp(random_accuracy, 0.6610)"
   ]
  },
  {
   "cell_type": "code",
   "execution_count": 7,
   "metadata": {},
   "outputs": [
    {
     "data": {
      "text/plain": [
       "Ttest_1sampResult(statistic=-1721.0000010583224, pvalue=0.0)"
      ]
     },
     "execution_count": 7,
     "metadata": {},
     "output_type": "execute_result"
    }
   ],
   "source": [
    "stats.ttest_1samp(random_accuracy, 0.8079)"
   ]
  },
  {
   "cell_type": "code",
   "execution_count": 8,
   "metadata": {},
   "outputs": [
    {
     "data": {
      "text/plain": [
       "Ttest_1sampResult(statistic=-1232.9063917017265, pvalue=0.0)"
      ]
     },
     "execution_count": 8,
     "metadata": {},
     "output_type": "execute_result"
    }
   ],
   "source": [
    "stats.ttest_1samp(random_accuracy, 0.6497)"
   ]
  },
  {
   "cell_type": "code",
   "execution_count": null,
   "metadata": {},
   "outputs": [],
   "source": []
  }
 ],
 "metadata": {
  "kernelspec": {
   "display_name": "Python 2",
   "language": "python",
   "name": "python2"
  },
  "language_info": {
   "codemirror_mode": {
    "name": "ipython",
    "version": 2
   },
   "file_extension": ".py",
   "mimetype": "text/x-python",
   "name": "python",
   "nbconvert_exporter": "python",
   "pygments_lexer": "ipython2",
   "version": "2.7.15"
  }
 },
 "nbformat": 4,
 "nbformat_minor": 2
}
