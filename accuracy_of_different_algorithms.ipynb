{
 "cells": [
  {
   "cell_type": "code",
   "execution_count": 27,
   "metadata": {},
   "outputs": [
    {
     "data": {
      "image/png": "[encoded data removed]",
      "text/plain": [
       "<Figure size 432x288 with 1 Axes>"
      ]
     },
     "metadata": {
      "needs_background": "light"
     },
     "output_type": "display_data"
    }
   ],
   "source": [
    "import numpy as np\n",
    "import scipy as sp\n",
    "import pandas as pd\n",
    "import matplotlib.pyplot as plt\n",
    "import seaborn as sns\n",
    "%matplotlib inline\n",
    "\n",
    "xgboost_mean = [80.00]\n",
    "rf_mean = [78.55, 79.21, 78.19]\n",
    "nb_mean = [62.38, 71.75, 65.99]\n",
    "svm_mean = [50.85, 50.85, 50.85]\n",
    "knearest_mean = [51.41, 47.57, 47.57]\n",
    "dt_mean = [71.64, 71.52, 71.07]\n",
    "gauss_mean = [16.72, 16.38, 16.38]\n",
    "neural_mean = [44.52, 37.74, 24.29]\n",
    "\n",
    "xgboost_std = [2.136]\n",
    "rf_std = [4.704,3.693,4.275]\n",
    "nb_std = [6.069,4.247,12.769]\n",
    "svm_std = [3.706,3.706,3.706]\n",
    "knearest_std = [4.303,3.279,2.892]\n",
    "dt_std = [2.015,4.027,4.101]\n",
    "gauss_std = [1.298,1.598,1.598]\n",
    "neural_std = [12.107,12.193,7.474]\n",
    "\n",
    "l1=plt.errorbar([0], xgboost_mean, yerr=xgboost_std, fmt='o')\n",
    "l2=plt.errorbar([2,3,4], rf_mean, yerr=rf_std, fmt='o-')\n",
    "l3=plt.errorbar([5,6,7], nb_mean, yerr=nb_std, fmt='o-')\n",
    "l4=plt.errorbar([8,9,10], svm_mean, yerr=svm_std, fmt='o-')\n",
    "l5=plt.errorbar([11,12,13], knearest_mean, yerr=knearest_std, fmt='o-')\n",
    "l6=plt.errorbar([14,15,16], dt_mean, yerr=dt_std, fmt='o-')\n",
    "l7=plt.errorbar([17,18,19], gauss_mean, yerr=gauss_std, fmt='o-')\n",
    "l8=plt.errorbar([20,21,22], neural_mean, yerr=neural_std, fmt='o-')\n",
    "plt.ylim(0,100)\n",
    "plt.xlim(-2,24)\n",
    "plt.xticks([0,3,6,9,12,15,18,21],['XGB','RF','NB','SVM','KNN','DT','GP','NN'])\n",
    "plt.xlabel('Algorithm')\n",
    "plt.ylabel('Accuracy (%)')\n",
    "plt.savefig('accuracy_of_different_algorithms.png',dpi=300)"
   ]
  },
  {
   "cell_type": "code",
   "execution_count": null,
   "metadata": {},
   "outputs": [],
   "source": []
  }
 ],
 "metadata": {
  "kernelspec": {
   "display_name": "Python 2",
   "language": "python",
   "name": "python2"
  },
  "language_info": {
   "codemirror_mode": {
    "name": "ipython",
    "version": 2
   },
   "file_extension": ".py",
   "mimetype": "text/x-python",
   "name": "python",
   "nbconvert_exporter": "python",
   "pygments_lexer": "ipython2",
   "version": "2.7.15"
  }
 },
 "nbformat": 4,
 "nbformat_minor": 2
}
